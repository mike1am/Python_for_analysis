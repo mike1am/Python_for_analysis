{
 "cells": [
  {
   "attachments": {},
   "cell_type": "markdown",
   "metadata": {},
   "source": [
    "# ДЗ 1"
   ]
  },
  {
   "attachments": {},
   "cell_type": "markdown",
   "metadata": {},
   "source": [
    "## Задача 2\n",
    "`На складе лежат разные фрукты в разном количестве.\n",
    "Нужно написать функцию, которая на вход принимает любое количество названий фруктов и их количество, а возвращает общее количество фруктов на складе`"
   ]
  },
  {
   "cell_type": "code",
   "execution_count": 26,
   "metadata": {},
   "outputs": [],
   "source": [
    "def calc_fruit_sum(**kwargs) -> int:\n",
    "    total = 0\n",
    "\n",
    "    for num in kwargs.values():\n",
    "        if not isinstance(num, int) or num < 0:\n",
    "            return -1\n",
    "\n",
    "        total += num\n",
    "\n",
    "    return total\n"
   ]
  },
  {
   "cell_type": "code",
   "execution_count": 27,
   "metadata": {},
   "outputs": [
    {
     "data": {
      "text/plain": [
       "33"
      ]
     },
     "execution_count": 27,
     "metadata": {},
     "output_type": "execute_result"
    }
   ],
   "source": [
    "calc_fruit_sum(apples=10, bananas=2, peachs=21)\n"
   ]
  },
  {
   "attachments": {},
   "cell_type": "markdown",
   "metadata": {},
   "source": [
    "## Задача 3\n",
    "`Дан список с затратами на рекламу. Но в данных есть ошибки, некоторые затраты имеют отрицательную величину. Удалите такие значения из списка и посчитайте суммарные затраты`  \n",
    "`[100, 125, -90, 345, 655, -1, 0, 200]`  \n",
    "`Используйте list comprehensions`"
   ]
  },
  {
   "cell_type": "code",
   "execution_count": 20,
   "metadata": {},
   "outputs": [
    {
     "data": {
      "text/plain": [
       "1425"
      ]
     },
     "execution_count": 20,
     "metadata": {},
     "output_type": "execute_result"
    }
   ],
   "source": [
    "COSTS = [100, 125, -90, 345, 655, -1, 0, 200]\n",
    "\n",
    "sum([cost for cost in COSTS if cost >= 0])\n"
   ]
  },
  {
   "attachments": {},
   "cell_type": "markdown",
   "metadata": {},
   "source": [
    "## Задача 4\n",
    "`Даны два списка.`  \n",
    "`Дата покупки`  \n",
    "`['2021-09-14', '2021-12-15', '2021-09-08', '2021-12-05', '2021-10-09', '2021-09-30', '2021-12-22', '2021-11-29', '2021-12-24', '2021-11-26', '2021-10-27', '2021-12-18', '2021-11-09', '2021-11-23', '2021-09-27', '2021-10-02', '2021-12-27', '2021-09-20', '2021-12-13', '2021-11-01', '2021-11-09', '2021-12-06', '2021-12-08', '2021-10-09', '2021-10-31', '2021-09-30', '2021-11-09', '2021-12-13', '2021-10-26', '2021-12-09']`  \n",
    "`Суммы покупок по датам`  \n",
    "`[1270, 8413, 9028, 3703, 5739, 4095, 295, 4944, 5723, 3701, 4471, 651, 7037, 4274, 6275, 4988, 6930, 2971, 6592, 2004, 2822, 519, 3406, 2732, 5015, 2008, 316, 6333, 5700, 2887]`\n",
    "### 4.1\n",
    "`Найдите, какая выручка у компании в ноябре.\n",
    "Используйте list comprehensions`\n"
   ]
  },
  {
   "cell_type": "code",
   "execution_count": 3,
   "metadata": {},
   "outputs": [
    {
     "data": {
      "text/plain": [
       "25098"
      ]
     },
     "execution_count": 3,
     "metadata": {},
     "output_type": "execute_result"
    }
   ],
   "source": [
    "DATES = [\n",
    "    '2021-09-14', '2021-12-15', '2021-09-08', '2021-12-05',\n",
    "    '2021-10-09', '2021-09-30', '2021-12-22', '2021-11-29',\n",
    "    '2021-12-24', '2021-11-26', '2021-10-27', '2021-12-18',\n",
    "    '2021-11-09', '2021-11-23', '2021-09-27', '2021-10-02',\n",
    "    '2021-12-27', '2021-09-20', '2021-12-13', '2021-11-01',\n",
    "    '2021-11-09', '2021-12-06', '2021-12-08', '2021-10-09',\n",
    "    '2021-10-31', '2021-09-30', '2021-11-09', '2021-12-13',\n",
    "    '2021-10-26', '2021-12-09'\n",
    "]\n",
    "REVS = [\n",
    "    1270, 8413, 9028, 3703, 5739, 4095, 295, 4944, 5723,\n",
    "    3701, 4471, 651, 7037, 4274, 6275, 4988, 6930, 2971,\n",
    "    6592, 2004, 2822, 519, 3406, 2732, 5015, 2008, 316,\n",
    "    6333, 5700, 2887\n",
    "]\n",
    "\n",
    "sum([r for d, r in zip(DATES, REVS) if d.split(\"-\")[1] == \"11\"])\n"
   ]
  },
  {
   "attachments": {},
   "cell_type": "markdown",
   "metadata": {},
   "source": [
    "### 4.2\n",
    "`Найдите выручку компании в зависимости от месяца.`  \n",
    "`Для этого напишите функцию, которая на вход принимает список с датами и список с выручкой, а на выходе словарь, где ключи - это месяцы, а значения - это выручка.`  \n",
    "`Используйте аннотирование типов.`"
   ]
  },
  {
   "cell_type": "code",
   "execution_count": 22,
   "metadata": {},
   "outputs": [],
   "source": [
    "import calendar as cl\n"
   ]
  },
  {
   "cell_type": "code",
   "execution_count": 24,
   "metadata": {},
   "outputs": [],
   "source": [
    "def get_month_rev(dates: list, revs: list) -> dict:\n",
    "    res_dict = {}\n",
    "\n",
    "    for rev_date, revenue in zip(dates, revs):\n",
    "        month = cl.month_name[int(rev_date.split(\"-\")[1])]\n",
    "\n",
    "        res_dict[month] = res_dict.get(month, 0) + revenue\n",
    "\n",
    "    return res_dict\n"
   ]
  },
  {
   "cell_type": "code",
   "execution_count": 25,
   "metadata": {},
   "outputs": [
    {
     "data": {
      "text/plain": [
       "{'September': 25647, 'December': 45452, 'October': 28645, 'November': 25098}"
      ]
     },
     "execution_count": 25,
     "metadata": {},
     "output_type": "execute_result"
    }
   ],
   "source": [
    "get_month_rev(DATES, REVS)\n"
   ]
  }
 ],
 "metadata": {
  "kernelspec": {
   "display_name": ".venv",
   "language": "python",
   "name": "python3"
  },
  "language_info": {
   "codemirror_mode": {
    "name": "ipython",
    "version": 3
   },
   "file_extension": ".py",
   "mimetype": "text/x-python",
   "name": "python",
   "nbconvert_exporter": "python",
   "pygments_lexer": "ipython3",
   "version": "3.11.2"
  },
  "orig_nbformat": 4
 },
 "nbformat": 4,
 "nbformat_minor": 2
}
